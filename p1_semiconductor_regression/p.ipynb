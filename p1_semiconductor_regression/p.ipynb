{
 "cells": [
  {
   "cell_type": "code",
   "execution_count": 1,
   "metadata": {},
   "outputs": [],
   "source": [
    "\n",
    "# for basic operations\n",
    "import numpy as np \n",
    "import pandas as pd \n",
    "from scipy import stats\n",
    "from sklearn.model_selection import train_test_split\n",
    "\n",
    "# for visualizations\n",
    "import matplotlib.pyplot as plt\n",
    "import seaborn as sns\n",
    "\n",
    "\n",
    "# for preprocessing\n",
    "from sklearn.impute import KNNImputer\n",
    "from sklearn.preprocessing import RobustScaler\n",
    "\n",
    "# model\n",
    "from sklearn.linear_model import LogisticRegression\n",
    "from sklearn.ensemble import RandomForestClassifier\n",
    "from sklearn.svm import SVC\n",
    "from sklearn.naive_bayes import GaussianNB\n",
    "\n",
    "# evaluation\n",
    "from sklearn.metrics import f1_score, matthews_corrcoef,confusion_matrix,plot_confusion_matrix\n",
    "# feature importance\n",
    "from sklearn.inspection import permutation_importance\n",
    "\n",
    "\n",
    "# to avoid warnings\n",
    "import warnings\n",
    "warnings.filterwarnings('ignore')\n",
    "warnings.warn(\"this will not show\")\n",
    "\n"
   ]
  },
  {
   "cell_type": "code",
   "execution_count": 2,
   "metadata": {},
   "outputs": [],
   "source": [
    "class FileController:\n",
    "    def readCsv(self,path):\n",
    "        return pd.read_csv(path)      \n",
    "    "
   ]
  },
  {
   "cell_type": "code",
   "execution_count": 3,
   "metadata": {},
   "outputs": [],
   "source": [
    "class PreprocessController:\n",
    "    def nullKnnImputer(self,df_train,df_test):\n",
    "        imputer = KNNImputer()\n",
    "        imputer.fit(df_train)\n",
    "        return pd.DataFrame(imputer.transform(df_train), columns = df_train.columns),pd.DataFrame(imputer.transform(df_test), columns = df_test.columns)\n",
    "\n",
    "    def dropCol(self,df_train,df_test,col):\n",
    "        return df_train.drop(col,axis=1),df_test.drop(col,axis=1)\n",
    "        "
   ]
  },
  {
   "cell_type": "code",
   "execution_count": 4,
   "metadata": {},
   "outputs": [],
   "source": [
    "\n",
    "class EdaController:\n",
    "    '''\n",
    "    데이터 프레임을 설명에 쓰이는 클래스.(does not modify df)\n",
    "    '''\n",
    "        \n",
    "    def summary(self,df, pred=None):\n",
    "        obs = df.shape[0]\n",
    "        Types = df.dtypes\n",
    "        Counts = df.apply(lambda x: x.count())\n",
    "        Min = df.min()\n",
    "        Max = df.max()\n",
    "        Uniques = df.apply(lambda x: x.unique().shape[0])\n",
    "        Nulls = df.apply(lambda x: x.isnull().sum())\n",
    "        print('Data shape:', df.shape)\n",
    "\n",
    "        if pred is None:\n",
    "            cols = ['Types', 'Counts', 'Uniques', 'Nulls', 'Min', 'Max']\n",
    "            st = pd.concat([Types, Counts, Uniques, Nulls, Min, Max], axis = 1, sort=True)\n",
    "\n",
    "        st.columns = cols\n",
    "        print('___________________________\\nData Types:')\n",
    "        print(st.Types.value_counts())\n",
    "        print('___________________________')\n",
    "        return st\n",
    "    \n",
    "    def imbalancedVisual(self,ser):\n",
    "        labels = ['Pass', 'Fail']\n",
    "        size = ser.value_counts()\n",
    "        colors = ['blue', 'green']\n",
    "        explode = [0, 0.1]\n",
    "\n",
    "        plt.style.use('seaborn-deep')\n",
    "        plt.rcParams['figure.figsize'] = (8, 8)\n",
    "        plt.pie(size, labels =labels, colors = colors, explode = explode, autopct = \"%.2f%%\", shadow = True)\n",
    "        plt.axis('off')\n",
    "        plt.title('Target: Pass or Fail', fontsize = 20)\n",
    "        plt.legend()\n",
    "        plt.show()\n",
    "        # plt.bar(2,ser.value_counts())\n",
    "        ser.value_counts().plot(kind=\"bar\", color=['b','g'])\n",
    "        plt.show()\n",
    "    \n",
    "    def checkUniqueValueColWithRawData(self,df,fillNull=True):\n",
    "        temp = df.apply(lambda x: x.unique().shape[0])\n",
    "        temp2 = df.fillna(method='ffill').apply(lambda x: x.unique().shape[0])\n",
    "        print('1 unique vaule:',len(temp[temp.isin([1])]),'개')\n",
    "        print('1 unique vaule + null :',len(temp2[temp2.isin([1])]),'개')\n",
    "\n",
    "        if fillNull:\n",
    "            return list(temp2[temp2.isin([1])].index)\n",
    "        else:\n",
    "            return list(temp[temp.isin([1])].index)\n",
    "         \n",
    "\n",
    "\n",
    "    def checkNull(self,df,percent=None):\n",
    "        '''\n",
    "        return list of index which has greater missing percentage if percent value is passed. \n",
    "        '''\n",
    "        missPercentTable = df.isnull().sum()/df.shape[0]*100\n",
    "        for n in range(10,100,10):\n",
    "            print(f'missing {n}~{n+10}%: {len([i for i,p in enumerate(missPercentTable) if p>=n and p<n+10 ])}개')\n",
    "        if percent:\n",
    "            return [i for i,p in missPercentTable.iteritems() if p<percent and p>=10 ],[i for i,p in missPercentTable.iteritems() if p>=percent ]\n",
    "\n",
    "    def correlation(self,dataset, threshold):\n",
    "        col_corr = set()  # Set of all the names of correlated columns\n",
    "        corr_matrix = dataset.corr()\n",
    "        for i in range(len(corr_matrix.columns)):\n",
    "            for j in range(i):\n",
    "                if abs(corr_matrix.iloc[i, j]) > threshold: # we are interested in absolute coeff value\n",
    "                    colname = corr_matrix.columns[i]  # getting the name of column\n",
    "                    col_corr.add(colname)\n",
    "        return col_corr\n",
    "        \n",
    "    "
   ]
  },
  {
   "cell_type": "code",
   "execution_count": 5,
   "metadata": {},
   "outputs": [],
   "source": [
    "class ModelingController:\n",
    "\n",
    "    def logisticEvaluate(self,train_df, test_df, train_target, test_target):\n",
    "\n",
    "        model_order = ['Logistic Regression','RandomForest']\n",
    "        lr_score = []\n",
    "        rf_score = []\n",
    "\n",
    "\n",
    "        lr_coef = []\n",
    "        rf_coef = []\n",
    "\n",
    "    \n",
    "        scaler = RobustScaler()\n",
    "        scaler.fit(train_df)\n",
    "        train_std = pd.DataFrame(scaler.transform(train_df), columns=train_df.columns)\n",
    "        test_std = pd.DataFrame(scaler.transform(test_df), columns=test_df.columns)\n",
    "\n",
    "        y_train_true = train_target.values.ravel()\n",
    "        y_test_true = test_target.values.ravel()\n",
    "\n",
    "        logreg = LogisticRegression()\n",
    "        rf = RandomForestClassifier(n_estimators=5,random_state=0,max_depth=12,n_jobs=-1)\n",
    "\n",
    "\n",
    "        for i,clf in enumerate([logreg,rf]):\n",
    "            clf.fit(train_std, train_target.values.ravel())\n",
    "\n",
    "            y_train_pred = clf.predict(train_std)\n",
    "            y_test_pred = clf.predict(test_std)\n",
    "\n",
    "            f1score_train = f1_score(y_train_true, y_train_pred, average='micro')\n",
    "            f1score_test = f1_score(y_test_true, y_test_pred, average='micro')\n",
    "            mccscore_train=matthews_corrcoef(y_train_true, y_train_pred)\n",
    "            mccscore_test=matthews_corrcoef(y_test_true, y_test_pred)\n",
    "            cm =confusion_matrix(y_test_true,y_test_pred)\n",
    "            tn,fp,fn,tp = cm.ravel()\n",
    "            fpr = fp/(fp+tn)\n",
    "            sns.heatmap(cm,annot=True,cmap='Blues')\n",
    "            plt.show()\n",
    "            if i ==0:\n",
    "                lr_score.extend([f1score_train,f1score_test,mccscore_train,mccscore_test,fpr])\n",
    "                t1_df = pd.DataFrame([list(map(abs,clf.coef_))[0],clf.coef_[0]],columns=list(train_std.columns))\n",
    "                t1_df = t1_df.T.sort_values(by=0,ascending=False).drop([0],axis=1)\n",
    "\n",
    "               \n",
    "\n",
    "            else:\n",
    "                rf_score.extend([f1score_train,f1score_test,mccscore_train,mccscore_test,fpr])\n",
    " \n",
    "                imp = clf.feature_importances_\n",
    "\n",
    "                t3_df = pd.DataFrame([list(map(abs,imp)),imp],columns=list(train_std.columns))\n",
    "                t3_df = t3_df.T.sort_values(by=0,ascending=False).drop([0],axis=1)\n",
    "\n",
    "            del y_train_pred, y_test_pred\n",
    "        imp_result = pd.DataFrame([t1_df.index,t3_df.index],index=model_order).transpose()\n",
    "        # display(imp_result)\n",
    "\n",
    "        \n",
    "        result = pd.DataFrame([lr_score,rf_score],index=model_order,columns=['f1_train','f1_test','mcc_train','mcc_test','fpr'])\n",
    "        display(result)\n",
    "\n",
    "        return imp_result ,result"
   ]
  },
  {
   "cell_type": "markdown",
   "metadata": {},
   "source": [
    "# Initailize Class"
   ]
  },
  {
   "cell_type": "code",
   "execution_count": 6,
   "metadata": {},
   "outputs": [],
   "source": [
    "#class initialize\n",
    "fController = FileController()\n",
    "eController = EdaController()\n",
    "pController = PreprocessController()\n",
    "mController = ModelingController()"
   ]
  },
  {
   "cell_type": "markdown",
   "metadata": {},
   "source": [
    "# Load Data Frame & Split Data"
   ]
  },
  {
   "cell_type": "code",
   "execution_count": 41,
   "metadata": {},
   "outputs": [],
   "source": [
    "# load csv file\n",
    "rawData = fController.readCsv('./uci-secom.csv')"
   ]
  },
  {
   "cell_type": "code",
   "execution_count": 42,
   "metadata": {},
   "outputs": [],
   "source": [
    "X = rawData.iloc[:,:-1]\n",
    "y = rawData.iloc[:,-1]\n",
    "# 종속변수 1,0으로 변환\n",
    "y=y.replace(1,0)\n",
    "y=y.replace(-1,1)\n",
    "#train test split\n",
    "X_train,X_test,y_train,y_test = train_test_split(X,y,test_size = 0.3,random_state=0)"
   ]
  },
  {
   "cell_type": "markdown",
   "metadata": {},
   "source": [
    "# EDA"
   ]
  },
  {
   "cell_type": "markdown",
   "metadata": {},
   "source": [
    "# 1. Summary"
   ]
  },
  {
   "cell_type": "code",
   "execution_count": 43,
   "metadata": {
    "scrolled": true
   },
   "outputs": [
    {
     "name": "stdout",
     "output_type": "stream",
     "text": [
      "Data shape: (1567, 592)\n",
      "___________________________\n",
      "Data Types:\n",
      "float64    590\n",
      "int64        1\n",
      "object       1\n",
      "Name: Types, dtype: int64\n",
      "___________________________\n"
     ]
    },
    {
     "data": {
      "text/html": [
       "<div>\n",
       "<style scoped>\n",
       "    .dataframe tbody tr th:only-of-type {\n",
       "        vertical-align: middle;\n",
       "    }\n",
       "\n",
       "    .dataframe tbody tr th {\n",
       "        vertical-align: top;\n",
       "    }\n",
       "\n",
       "    .dataframe thead th {\n",
       "        text-align: right;\n",
       "    }\n",
       "</style>\n",
       "<table border=\"1\" class=\"dataframe\">\n",
       "  <thead>\n",
       "    <tr style=\"text-align: right;\">\n",
       "      <th></th>\n",
       "      <th>Types</th>\n",
       "      <th>Counts</th>\n",
       "      <th>Uniques</th>\n",
       "      <th>Nulls</th>\n",
       "      <th>Min</th>\n",
       "      <th>Max</th>\n",
       "    </tr>\n",
       "  </thead>\n",
       "  <tbody>\n",
       "    <tr>\n",
       "      <th>0</th>\n",
       "      <td>float64</td>\n",
       "      <td>1561</td>\n",
       "      <td>1521</td>\n",
       "      <td>6</td>\n",
       "      <td>2743.24</td>\n",
       "      <td>3356.35</td>\n",
       "    </tr>\n",
       "    <tr>\n",
       "      <th>1</th>\n",
       "      <td>float64</td>\n",
       "      <td>1560</td>\n",
       "      <td>1505</td>\n",
       "      <td>7</td>\n",
       "      <td>2158.75</td>\n",
       "      <td>2846.44</td>\n",
       "    </tr>\n",
       "    <tr>\n",
       "      <th>10</th>\n",
       "      <td>float64</td>\n",
       "      <td>1565</td>\n",
       "      <td>393</td>\n",
       "      <td>2</td>\n",
       "      <td>-0.0349</td>\n",
       "      <td>0.053</td>\n",
       "    </tr>\n",
       "    <tr>\n",
       "      <th>100</th>\n",
       "      <td>float64</td>\n",
       "      <td>1561</td>\n",
       "      <td>36</td>\n",
       "      <td>6</td>\n",
       "      <td>-0.003</td>\n",
       "      <td>0.0023</td>\n",
       "    </tr>\n",
       "    <tr>\n",
       "      <th>101</th>\n",
       "      <td>float64</td>\n",
       "      <td>1561</td>\n",
       "      <td>30</td>\n",
       "      <td>6</td>\n",
       "      <td>-0.0024</td>\n",
       "      <td>0.0017</td>\n",
       "    </tr>\n",
       "    <tr>\n",
       "      <th>...</th>\n",
       "      <td>...</td>\n",
       "      <td>...</td>\n",
       "      <td>...</td>\n",
       "      <td>...</td>\n",
       "      <td>...</td>\n",
       "      <td>...</td>\n",
       "    </tr>\n",
       "    <tr>\n",
       "      <th>97</th>\n",
       "      <td>float64</td>\n",
       "      <td>1561</td>\n",
       "      <td>2</td>\n",
       "      <td>6</td>\n",
       "      <td>0</td>\n",
       "      <td>0</td>\n",
       "    </tr>\n",
       "    <tr>\n",
       "      <th>98</th>\n",
       "      <td>float64</td>\n",
       "      <td>1561</td>\n",
       "      <td>1421</td>\n",
       "      <td>6</td>\n",
       "      <td>-5.2717</td>\n",
       "      <td>2.5698</td>\n",
       "    </tr>\n",
       "    <tr>\n",
       "      <th>99</th>\n",
       "      <td>float64</td>\n",
       "      <td>1561</td>\n",
       "      <td>273</td>\n",
       "      <td>6</td>\n",
       "      <td>-0.5283</td>\n",
       "      <td>0.8854</td>\n",
       "    </tr>\n",
       "    <tr>\n",
       "      <th>Pass/Fail</th>\n",
       "      <td>int64</td>\n",
       "      <td>1567</td>\n",
       "      <td>2</td>\n",
       "      <td>0</td>\n",
       "      <td>-1</td>\n",
       "      <td>1</td>\n",
       "    </tr>\n",
       "    <tr>\n",
       "      <th>Time</th>\n",
       "      <td>object</td>\n",
       "      <td>1567</td>\n",
       "      <td>1534</td>\n",
       "      <td>0</td>\n",
       "      <td>2008-01-08 02:02:00</td>\n",
       "      <td>2008-12-10 18:47:00</td>\n",
       "    </tr>\n",
       "  </tbody>\n",
       "</table>\n",
       "<p>592 rows × 6 columns</p>\n",
       "</div>"
      ],
      "text/plain": [
       "             Types  Counts  Uniques  Nulls                  Min  \\\n",
       "0          float64    1561     1521      6              2743.24   \n",
       "1          float64    1560     1505      7              2158.75   \n",
       "10         float64    1565      393      2              -0.0349   \n",
       "100        float64    1561       36      6               -0.003   \n",
       "101        float64    1561       30      6              -0.0024   \n",
       "...            ...     ...      ...    ...                  ...   \n",
       "97         float64    1561        2      6                    0   \n",
       "98         float64    1561     1421      6              -5.2717   \n",
       "99         float64    1561      273      6              -0.5283   \n",
       "Pass/Fail    int64    1567        2      0                   -1   \n",
       "Time        object    1567     1534      0  2008-01-08 02:02:00   \n",
       "\n",
       "                           Max  \n",
       "0                      3356.35  \n",
       "1                      2846.44  \n",
       "10                       0.053  \n",
       "100                     0.0023  \n",
       "101                     0.0017  \n",
       "...                        ...  \n",
       "97                           0  \n",
       "98                      2.5698  \n",
       "99                      0.8854  \n",
       "Pass/Fail                    1  \n",
       "Time       2008-12-10 18:47:00  \n",
       "\n",
       "[592 rows x 6 columns]"
      ]
     },
     "metadata": {},
     "output_type": "display_data"
    }
   ],
   "source": [
    "summaryTable = eController.summary(df=rawData)\n",
    "display(summaryTable)"
   ]
  },
  {
   "cell_type": "code",
   "execution_count": 44,
   "metadata": {
    "scrolled": true
   },
   "outputs": [
    {
     "data": {
      "text/plain": [
       "((1096, 590), (471, 590))"
      ]
     },
     "execution_count": 44,
     "metadata": {},
     "output_type": "execute_result"
    }
   ],
   "source": [
    "# drop time\n",
    "X_train,X_test = pController.dropCol(X_train,X_test,['Time'])\n",
    "X_train.shape,X_test.shape"
   ]
  },
  {
   "cell_type": "markdown",
   "metadata": {},
   "source": [
    "## 1.1 Imbalaced Target"
   ]
  },
  {
   "cell_type": "code",
   "execution_count": 45,
   "metadata": {},
   "outputs": [
    {
     "data": {
      "image/png": "[encoded data removed]",
      "text/plain": [
       "<Figure size 576x576 with 1 Axes>"
      ]
     },
     "metadata": {},
     "output_type": "display_data"
    },
    {
     "data": {
      "image/png": "[encoded data removed]",
      "text/plain": [
       "<Figure size 576x576 with 1 Axes>"
      ]
     },
     "metadata": {
      "needs_background": "light"
     },
     "output_type": "display_data"
    }
   ],
   "source": [
    "eController.imbalancedVisual(y)"
   ]
  },
  {
   "cell_type": "code",
   "execution_count": null,
   "metadata": {},
   "outputs": [],
   "source": []
  },
  {
   "cell_type": "markdown",
   "metadata": {},
   "source": [
    "# 2. Null Handling"
   ]
  },
  {
   "cell_type": "markdown",
   "metadata": {},
   "source": [
    "## 2.1 Null Check"
   ]
  },
  {
   "cell_type": "code",
   "execution_count": null,
   "metadata": {},
   "outputs": [],
   "source": []
  },
  {
   "cell_type": "code",
   "execution_count": 46,
   "metadata": {
    "scrolled": true
   },
   "outputs": [
    {
     "name": "stdout",
     "output_type": "stream",
     "text": [
      "missing 10~20%: 20개\n",
      "missing 20~30%: 0개\n",
      "missing 30~40%: 0개\n",
      "missing 40~50%: 4개\n",
      "missing 50~60%: 4개\n",
      "missing 60~70%: 16개\n",
      "missing 70~80%: 0개\n",
      "missing 80~90%: 4개\n",
      "missing 90~100%: 4개\n"
     ]
    }
   ],
   "source": [
    "# missing value percentage\n",
    "missingCol,dropCol = eController.checkNull(df=X_train,percent = 20)\n",
    "\n",
    "# 20% 이상 NUll 값이 존재하면 drop "
   ]
  },
  {
   "cell_type": "code",
   "execution_count": 47,
   "metadata": {},
   "outputs": [
    {
     "data": {
      "text/plain": [
       "((1096, 558), (471, 558))"
      ]
     },
     "execution_count": 47,
     "metadata": {},
     "output_type": "execute_result"
    }
   ],
   "source": [
    "# drop \n",
    "X_train = X_train.drop(dropCol,axis=1)\n",
    "X_test = X_test.drop(dropCol,axis=1)\n",
    "X_train.shape,X_test.shape"
   ]
  },
  {
   "cell_type": "markdown",
   "metadata": {},
   "source": [
    "## 2.2 Fill Null value"
   ]
  },
  {
   "cell_type": "markdown",
   "metadata": {},
   "source": [
    "### 2.2.1 KNN Imputer (App.1)"
   ]
  },
  {
   "cell_type": "markdown",
   "metadata": {},
   "source": [
    "### 2.2.2 mean value"
   ]
  },
  {
   "cell_type": "code",
   "execution_count": 48,
   "metadata": {},
   "outputs": [],
   "source": [
    "X_train = X_train.fillna(X_train.mean())\n",
    "X_test = X_test.fillna(X_test.mean())\n",
    "# mController.logisticEvaluate(X_train,X_test,y_train,y_test)\n"
   ]
  },
  {
   "cell_type": "code",
   "execution_count": 49,
   "metadata": {},
   "outputs": [],
   "source": [
    "full_train = X_train\n",
    "full_test = X_test"
   ]
  },
  {
   "cell_type": "code",
   "execution_count": 50,
   "metadata": {},
   "outputs": [
    {
     "data": {
      "text/plain": [
       "(1096, 558)"
      ]
     },
     "execution_count": 50,
     "metadata": {},
     "output_type": "execute_result"
    }
   ],
   "source": [
    "full_train.shape"
   ]
  },
  {
   "cell_type": "markdown",
   "metadata": {},
   "source": [
    "## 1.2 Number of Unique Value"
   ]
  },
  {
   "cell_type": "code",
   "execution_count": 51,
   "metadata": {},
   "outputs": [
    {
     "name": "stdout",
     "output_type": "stream",
     "text": [
      "1 unique vaule: 116 개\n",
      "1 unique vaule + null : 116 개\n"
     ]
    },
    {
     "data": {
      "text/plain": [
       "116"
      ]
     },
     "execution_count": 51,
     "metadata": {},
     "output_type": "execute_result"
    }
   ],
   "source": [
    "uniqueColWithNull = eController.checkUniqueValueColWithRawData(X_train,True)\n",
    "len(uniqueColWithNull)"
   ]
  },
  {
   "cell_type": "code",
   "execution_count": 52,
   "metadata": {},
   "outputs": [],
   "source": [
    "# unique vaule + null drop \n",
    "X_train = X_train.drop(uniqueColWithNull,axis=1)\n",
    "X_test = X_test.drop(uniqueColWithNull,axis=1)\n",
    "X_train.shape,X_test.shape\n",
    "cleansed_train = X_train\n",
    "cleansed_test = X_test\n"
   ]
  },
  {
   "cell_type": "code",
   "execution_count": 53,
   "metadata": {},
   "outputs": [
    {
     "name": "stdout",
     "output_type": "stream",
     "text": [
      "0      1071\n",
      "1      1064\n",
      "2       460\n",
      "3       465\n",
      "4       453\n",
      "       ... \n",
      "585    1069\n",
      "586     291\n",
      "587     236\n",
      "588     113\n",
      "589     494\n",
      "Length: 442, dtype: int64\n",
      "\n"
     ]
    },
    {
     "data": {
      "image/png": "[encoded data removed]",
      "text/plain": [
       "<Figure size 576x576 with 1 Axes>"
      ]
     },
     "metadata": {
      "needs_background": "light"
     },
     "output_type": "display_data"
    }
   ],
   "source": [
    "# unique value histogram\n",
    "temp = pd.Series(X_train.nunique())\n",
    "print(temp)\n",
    "print()\n",
    "plt.hist(temp,bins = 12,label='Num of Unique values')\n",
    "plt.show()"
   ]
  },
  {
   "cell_type": "markdown",
   "metadata": {},
   "source": [
    "### Drop Unique Val under 100\n"
   ]
  },
  {
   "cell_type": "code",
   "execution_count": 57,
   "metadata": {},
   "outputs": [
    {
     "name": "stdout",
     "output_type": "stream",
     "text": [
      "(1096, 401) (471, 401)\n"
     ]
    },
    {
     "data": {
      "image/png": "[encoded data removed]",
      "text/plain": [
       "<Figure size 576x576 with 2 Axes>"
      ]
     },
     "metadata": {
      "needs_background": "light"
     },
     "output_type": "display_data"
    },
    {
     "data": {
      "image/png": "[encoded data removed]",
      "text/plain": [
       "<Figure size 576x576 with 2 Axes>"
      ]
     },
     "metadata": {
      "needs_background": "light"
     },
     "output_type": "display_data"
    },
    {
     "data": {
      "text/html": [
       "<div>\n",
       "<style scoped>\n",
       "    .dataframe tbody tr th:only-of-type {\n",
       "        vertical-align: middle;\n",
       "    }\n",
       "\n",
       "    .dataframe tbody tr th {\n",
       "        vertical-align: top;\n",
       "    }\n",
       "\n",
       "    .dataframe thead th {\n",
       "        text-align: right;\n",
       "    }\n",
       "</style>\n",
       "<table border=\"1\" class=\"dataframe\">\n",
       "  <thead>\n",
       "    <tr style=\"text-align: right;\">\n",
       "      <th></th>\n",
       "      <th>f1_train</th>\n",
       "      <th>f1_test</th>\n",
       "      <th>mcc_train</th>\n",
       "      <th>mcc_test</th>\n",
       "      <th>fpr</th>\n",
       "    </tr>\n",
       "  </thead>\n",
       "  <tbody>\n",
       "    <tr>\n",
       "      <th>Logistic Regression</th>\n",
       "      <td>0.925182</td>\n",
       "      <td>0.927813</td>\n",
       "      <td>0.126523</td>\n",
       "      <td>-0.031773</td>\n",
       "      <td>1.0</td>\n",
       "    </tr>\n",
       "    <tr>\n",
       "      <th>RandomForest</th>\n",
       "      <td>0.962591</td>\n",
       "      <td>0.936306</td>\n",
       "      <td>0.675273</td>\n",
       "      <td>-0.022371</td>\n",
       "      <td>1.0</td>\n",
       "    </tr>\n",
       "  </tbody>\n",
       "</table>\n",
       "</div>"
      ],
      "text/plain": [
       "                     f1_train   f1_test  mcc_train  mcc_test  fpr\n",
       "Logistic Regression  0.925182  0.927813   0.126523 -0.031773  1.0\n",
       "RandomForest         0.962591  0.936306   0.675273 -0.022371  1.0"
      ]
     },
     "metadata": {},
     "output_type": "display_data"
    }
   ],
   "source": [
    "thCol = [i for i,val in X_train.nunique().iteritems() if val <=100]\n",
    "X_train,X_test = pController.dropCol(X_train,X_test,thCol)\n",
    "print(X_train.shape, X_test.shape)\n",
    "a,b =mController.logisticEvaluate(X_train,X_test,y_train,y_test)\n",
    "reduced_train = X_train\n",
    "reduced_test = X_test"
   ]
  },
  {
   "cell_type": "markdown",
   "metadata": {},
   "source": [
    "### Ranksum 2 test"
   ]
  },
  {
   "cell_type": "code",
   "execution_count": 58,
   "metadata": {},
   "outputs": [
    {
     "name": "stdout",
     "output_type": "stream",
     "text": [
      "340\n"
     ]
    },
    {
     "data": {
      "text/plain": [
       "((1096, 61), (471, 61))"
      ]
     },
     "execution_count": 58,
     "metadata": {},
     "output_type": "execute_result"
    }
   ],
   "source": [
    "ranksum_col = []\n",
    "tempData = X_train.merge(y_train,left_index=True,right_index=True)\n",
    "passData = tempData[tempData['Pass/Fail']==1]\n",
    "failData = tempData[tempData['Pass/Fail']==0]\n",
    "colList = list(X_train.columns)\n",
    "for i in colList:\n",
    "    pValue = stats.ranksums(passData[i],failData[i]).pvalue\n",
    "    \n",
    "    if pValue>0.05:\n",
    "        ranksum_col. append(i)\n",
    "print(len(ranksum_col)) \n",
    "X_train,X_test = pController.dropCol(X_train,X_test,ranksum_col)\n",
    "t_train = X_train\n",
    "t_test = X_test\n",
    "X_train.shape,X_test.shape"
   ]
  },
  {
   "cell_type": "code",
   "execution_count": 60,
   "metadata": {},
   "outputs": [
    {
     "data": {
      "image/png": "[encoded data removed]",
      "text/plain": [
       "<Figure size 576x576 with 2 Axes>"
      ]
     },
     "metadata": {
      "needs_background": "light"
     },
     "output_type": "display_data"
    },
    {
     "data": {
      "image/png": "[encoded data removed]",
      "text/plain": [
       "<Figure size 576x576 with 2 Axes>"
      ]
     },
     "metadata": {
      "needs_background": "light"
     },
     "output_type": "display_data"
    },
    {
     "data": {
      "text/html": [
       "<div>\n",
       "<style scoped>\n",
       "    .dataframe tbody tr th:only-of-type {\n",
       "        vertical-align: middle;\n",
       "    }\n",
       "\n",
       "    .dataframe tbody tr th {\n",
       "        vertical-align: top;\n",
       "    }\n",
       "\n",
       "    .dataframe thead th {\n",
       "        text-align: right;\n",
       "    }\n",
       "</style>\n",
       "<table border=\"1\" class=\"dataframe\">\n",
       "  <thead>\n",
       "    <tr style=\"text-align: right;\">\n",
       "      <th></th>\n",
       "      <th>f1_train</th>\n",
       "      <th>f1_test</th>\n",
       "      <th>mcc_train</th>\n",
       "      <th>mcc_test</th>\n",
       "      <th>fpr</th>\n",
       "    </tr>\n",
       "  </thead>\n",
       "  <tbody>\n",
       "    <tr>\n",
       "      <th>Logistic Regression</th>\n",
       "      <td>0.933394</td>\n",
       "      <td>0.925690</td>\n",
       "      <td>0.264689</td>\n",
       "      <td>0.072772</td>\n",
       "      <td>0.923077</td>\n",
       "    </tr>\n",
       "    <tr>\n",
       "      <th>RandomForest</th>\n",
       "      <td>0.979927</td>\n",
       "      <td>0.929936</td>\n",
       "      <td>0.838309</td>\n",
       "      <td>0.085736</td>\n",
       "      <td>0.923077</td>\n",
       "    </tr>\n",
       "  </tbody>\n",
       "</table>\n",
       "</div>"
      ],
      "text/plain": [
       "                     f1_train   f1_test  mcc_train  mcc_test       fpr\n",
       "Logistic Regression  0.933394  0.925690   0.264689  0.072772  0.923077\n",
       "RandomForest         0.979927  0.929936   0.838309  0.085736  0.923077"
      ]
     },
     "metadata": {},
     "output_type": "display_data"
    },
    {
     "data": {
      "text/plain": [
       "(   Logistic Regression RandomForest\n",
       " 0                  341          341\n",
       " 1                  348           21\n",
       " 2                  205          163\n",
       " 3                  428          102\n",
       " 4                  163           59\n",
       " ..                 ...          ...\n",
       " 56                 455           78\n",
       " 57                 425          365\n",
       " 58                 468          417\n",
       " 59                 103          455\n",
       " 60                  40          482\n",
       " \n",
       " [61 rows x 2 columns],\n",
       "                      f1_train   f1_test  mcc_train  mcc_test       fpr\n",
       " Logistic Regression  0.933394  0.925690   0.264689  0.072772  0.923077\n",
       " RandomForest         0.979927  0.929936   0.838309  0.085736  0.923077)"
      ]
     },
     "execution_count": 60,
     "metadata": {},
     "output_type": "execute_result"
    }
   ],
   "source": [
    "\n",
    "mController.logisticEvaluate(X_train,X_test,y_train,y_test)"
   ]
  },
  {
   "cell_type": "markdown",
   "metadata": {},
   "source": [
    "## 3. Multicollinearity (VIF)"
   ]
  },
  {
   "cell_type": "code",
   "execution_count": 61,
   "metadata": {},
   "outputs": [
    {
     "data": {
      "text/html": [
       "<div>\n",
       "<style scoped>\n",
       "    .dataframe tbody tr th:only-of-type {\n",
       "        vertical-align: middle;\n",
       "    }\n",
       "\n",
       "    .dataframe tbody tr th {\n",
       "        vertical-align: top;\n",
       "    }\n",
       "\n",
       "    .dataframe thead th {\n",
       "        text-align: right;\n",
       "    }\n",
       "</style>\n",
       "<table border=\"1\" class=\"dataframe\">\n",
       "  <thead>\n",
       "    <tr style=\"text-align: right;\">\n",
       "      <th></th>\n",
       "      <th>Attribute</th>\n",
       "      <th>VIF Scores</th>\n",
       "    </tr>\n",
       "  </thead>\n",
       "  <tbody>\n",
       "    <tr>\n",
       "      <th>0</th>\n",
       "      <td>40</td>\n",
       "      <td>7.531635</td>\n",
       "    </tr>\n",
       "    <tr>\n",
       "      <th>1</th>\n",
       "      <td>59</td>\n",
       "      <td>2.171068</td>\n",
       "    </tr>\n",
       "    <tr>\n",
       "      <th>2</th>\n",
       "      <td>78</td>\n",
       "      <td>1.320646</td>\n",
       "    </tr>\n",
       "    <tr>\n",
       "      <th>3</th>\n",
       "      <td>79</td>\n",
       "      <td>1.442758</td>\n",
       "    </tr>\n",
       "    <tr>\n",
       "      <th>4</th>\n",
       "      <td>102</td>\n",
       "      <td>1.034151</td>\n",
       "    </tr>\n",
       "    <tr>\n",
       "      <th>5</th>\n",
       "      <td>195</td>\n",
       "      <td>1.632336</td>\n",
       "    </tr>\n",
       "    <tr>\n",
       "      <th>6</th>\n",
       "      <td>200</td>\n",
       "      <td>5.636221</td>\n",
       "    </tr>\n",
       "    <tr>\n",
       "      <th>7</th>\n",
       "      <td>213</td>\n",
       "      <td>2.708707</td>\n",
       "    </tr>\n",
       "    <tr>\n",
       "      <th>8</th>\n",
       "      <td>227</td>\n",
       "      <td>3.964522</td>\n",
       "    </tr>\n",
       "    <tr>\n",
       "      <th>9</th>\n",
       "      <td>279</td>\n",
       "      <td>5.070504</td>\n",
       "    </tr>\n",
       "    <tr>\n",
       "      <th>10</th>\n",
       "      <td>298</td>\n",
       "      <td>9.559348</td>\n",
       "    </tr>\n",
       "    <tr>\n",
       "      <th>11</th>\n",
       "      <td>348</td>\n",
       "      <td>5.627652</td>\n",
       "    </tr>\n",
       "    <tr>\n",
       "      <th>12</th>\n",
       "      <td>388</td>\n",
       "      <td>4.323669</td>\n",
       "    </tr>\n",
       "    <tr>\n",
       "      <th>13</th>\n",
       "      <td>425</td>\n",
       "      <td>2.323128</td>\n",
       "    </tr>\n",
       "    <tr>\n",
       "      <th>14</th>\n",
       "      <td>428</td>\n",
       "      <td>1.175856</td>\n",
       "    </tr>\n",
       "    <tr>\n",
       "      <th>15</th>\n",
       "      <td>434</td>\n",
       "      <td>5.909331</td>\n",
       "    </tr>\n",
       "    <tr>\n",
       "      <th>16</th>\n",
       "      <td>460</td>\n",
       "      <td>5.293665</td>\n",
       "    </tr>\n",
       "    <tr>\n",
       "      <th>17</th>\n",
       "      <td>468</td>\n",
       "      <td>2.053242</td>\n",
       "    </tr>\n",
       "    <tr>\n",
       "      <th>18</th>\n",
       "      <td>477</td>\n",
       "      <td>2.820545</td>\n",
       "    </tr>\n",
       "    <tr>\n",
       "      <th>19</th>\n",
       "      <td>482</td>\n",
       "      <td>2.217514</td>\n",
       "    </tr>\n",
       "    <tr>\n",
       "      <th>20</th>\n",
       "      <td>510</td>\n",
       "      <td>3.629166</td>\n",
       "    </tr>\n",
       "    <tr>\n",
       "      <th>21</th>\n",
       "      <td>511</td>\n",
       "      <td>1.736585</td>\n",
       "    </tr>\n",
       "    <tr>\n",
       "      <th>22</th>\n",
       "      <td>587</td>\n",
       "      <td>4.157024</td>\n",
       "    </tr>\n",
       "  </tbody>\n",
       "</table>\n",
       "</div>"
      ],
      "text/plain": [
       "   Attribute  VIF Scores\n",
       "0         40    7.531635\n",
       "1         59    2.171068\n",
       "2         78    1.320646\n",
       "3         79    1.442758\n",
       "4        102    1.034151\n",
       "5        195    1.632336\n",
       "6        200    5.636221\n",
       "7        213    2.708707\n",
       "8        227    3.964522\n",
       "9        279    5.070504\n",
       "10       298    9.559348\n",
       "11       348    5.627652\n",
       "12       388    4.323669\n",
       "13       425    2.323128\n",
       "14       428    1.175856\n",
       "15       434    5.909331\n",
       "16       460    5.293665\n",
       "17       468    2.053242\n",
       "18       477    2.820545\n",
       "19       482    2.217514\n",
       "20       510    3.629166\n",
       "21       511    1.736585\n",
       "22       587    4.157024"
      ]
     },
     "metadata": {},
     "output_type": "display_data"
    }
   ],
   "source": [
    "#calculate Variance Inflation Factor\n",
    "from statsmodels.stats.outliers_influence import variance_inflation_factor\n",
    "condition = 1\n",
    "temp_train = X_train\n",
    "vifDropCol = []\n",
    "while condition !=0:\n",
    "\n",
    "    vif_scores = pd.DataFrame() \n",
    "\n",
    "    vif_scores[\"Attribute\"] = temp_train.columns \n",
    "    # calculating VIF for each feature \n",
    "    vif_scores[\"VIF Scores\"] = [variance_inflation_factor(temp_train.values, i) for i in range(len(temp_train.columns))] \n",
    "    condition = (vif_scores['VIF Scores']>10).sum()\n",
    "    droppingCol = vif_scores['Attribute'][vif_scores['VIF Scores'].idxmax()]\n",
    "    vifDropCol.append(droppingCol)\n",
    "    temp_train =temp_train.drop([droppingCol],axis=1)\n",
    "\n",
    "display(vif_scores)"
   ]
  },
  {
   "cell_type": "code",
   "execution_count": 62,
   "metadata": {},
   "outputs": [],
   "source": [
    "X_train ,X_test= pController.dropCol(X_train,X_test,vifDropCol)\n",
    "f_train,f_test = X_train,X_test"
   ]
  },
  {
   "cell_type": "code",
   "execution_count": 63,
   "metadata": {},
   "outputs": [
    {
     "data": {
      "image/png": "[encoded data removed]",
      "text/plain": [
       "<Figure size 576x576 with 2 Axes>"
      ]
     },
     "metadata": {
      "needs_background": "light"
     },
     "output_type": "display_data"
    },
    {
     "data": {
      "image/png": "[encoded data removed]",
      "text/plain": [
       "<Figure size 576x576 with 2 Axes>"
      ]
     },
     "metadata": {
      "needs_background": "light"
     },
     "output_type": "display_data"
    },
    {
     "data": {
      "text/html": [
       "<div>\n",
       "<style scoped>\n",
       "    .dataframe tbody tr th:only-of-type {\n",
       "        vertical-align: middle;\n",
       "    }\n",
       "\n",
       "    .dataframe tbody tr th {\n",
       "        vertical-align: top;\n",
       "    }\n",
       "\n",
       "    .dataframe thead th {\n",
       "        text-align: right;\n",
       "    }\n",
       "</style>\n",
       "<table border=\"1\" class=\"dataframe\">\n",
       "  <thead>\n",
       "    <tr style=\"text-align: right;\">\n",
       "      <th></th>\n",
       "      <th>f1_train</th>\n",
       "      <th>f1_test</th>\n",
       "      <th>mcc_train</th>\n",
       "      <th>mcc_test</th>\n",
       "      <th>fpr</th>\n",
       "    </tr>\n",
       "  </thead>\n",
       "  <tbody>\n",
       "    <tr>\n",
       "      <th>Logistic Regression</th>\n",
       "      <td>0.927920</td>\n",
       "      <td>0.942675</td>\n",
       "      <td>0.111451</td>\n",
       "      <td>-0.011150</td>\n",
       "      <td>1.0</td>\n",
       "    </tr>\n",
       "    <tr>\n",
       "      <th>RandomForest</th>\n",
       "      <td>0.972628</td>\n",
       "      <td>0.932059</td>\n",
       "      <td>0.772845</td>\n",
       "      <td>-0.027457</td>\n",
       "      <td>1.0</td>\n",
       "    </tr>\n",
       "  </tbody>\n",
       "</table>\n",
       "</div>"
      ],
      "text/plain": [
       "                     f1_train   f1_test  mcc_train  mcc_test  fpr\n",
       "Logistic Regression  0.927920  0.942675   0.111451 -0.011150  1.0\n",
       "RandomForest         0.972628  0.932059   0.772845 -0.027457  1.0"
      ]
     },
     "metadata": {},
     "output_type": "display_data"
    },
    {
     "data": {
      "text/plain": [
       "(   Logistic Regression RandomForest\n",
       " 0                  511           59\n",
       " 1                   59          102\n",
       " 2                  482           78\n",
       " 3                  102           40\n",
       " 4                  348          477\n",
       " 5                  510           79\n",
       " 6                  587          425\n",
       " 7                  388          348\n",
       " 8                  200          468\n",
       " 9                  460          510\n",
       " 10                 428          200\n",
       " 11                 227          388\n",
       " 12                 279          511\n",
       " 13                  79          434\n",
       " 14                 477          213\n",
       " 15                 213          428\n",
       " 16                 468          460\n",
       " 17                  78          195\n",
       " 18                 195          227\n",
       " 19                  40          482\n",
       " 20                 425          587\n",
       " 21                 434          279,\n",
       "                      f1_train   f1_test  mcc_train  mcc_test  fpr\n",
       " Logistic Regression  0.927920  0.942675   0.111451 -0.011150  1.0\n",
       " RandomForest         0.972628  0.932059   0.772845 -0.027457  1.0)"
      ]
     },
     "execution_count": 63,
     "metadata": {},
     "output_type": "execute_result"
    }
   ],
   "source": [
    "mController.logisticEvaluate(X_train,X_test,y_train,y_test)"
   ]
  },
  {
   "cell_type": "code",
   "execution_count": 64,
   "metadata": {},
   "outputs": [],
   "source": [
    "sns.pairplot(temp_train)"
   ]
  },
  {
   "cell_type": "code",
   "execution_count": 65,
   "metadata": {},
   "outputs": [],
   "source": [
    "sns.heatmap(temp_train)"
   ]
  },
  {
   "cell_type": "markdown",
   "metadata": {},
   "source": [
    "## Oversampling (SMOTE)"
   ]
  },
  {
   "cell_type": "code",
   "execution_count": 66,
   "metadata": {},
   "outputs": [
    {
     "name": "stdout",
     "output_type": "stream",
     "text": [
      "SMOTE 적용 전 학습용 피처/레이블 데이터 세트:  (1096, 22) (1096,)\n",
      "SMOTE 적용 후 학습용 피처/레이블 데이터 세트:  (2036, 22) (2036,)\n",
      "SMOTE 적용 후 레이블 값 분포: \n",
      " 1    1018\n",
      "0    1018\n",
      "Name: Pass/Fail, dtype: int64\n"
     ]
    },
    {
     "data": {
      "image/png": "[encoded data removed]",
      "text/plain": [
       "<Figure size 576x576 with 2 Axes>"
      ]
     },
     "metadata": {
      "needs_background": "light"
     },
     "output_type": "display_data"
    },
    {
     "data": {
      "image/png": "[encoded data removed]",
      "text/plain": [
       "<Figure size 576x576 with 2 Axes>"
      ]
     },
     "metadata": {
      "needs_background": "light"
     },
     "output_type": "display_data"
    },
    {
     "data": {
      "text/html": [
       "<div>\n",
       "<style scoped>\n",
       "    .dataframe tbody tr th:only-of-type {\n",
       "        vertical-align: middle;\n",
       "    }\n",
       "\n",
       "    .dataframe tbody tr th {\n",
       "        vertical-align: top;\n",
       "    }\n",
       "\n",
       "    .dataframe thead th {\n",
       "        text-align: right;\n",
       "    }\n",
       "</style>\n",
       "<table border=\"1\" class=\"dataframe\">\n",
       "  <thead>\n",
       "    <tr style=\"text-align: right;\">\n",
       "      <th></th>\n",
       "      <th>f1_train</th>\n",
       "      <th>f1_test</th>\n",
       "      <th>mcc_train</th>\n",
       "      <th>mcc_test</th>\n",
       "      <th>fpr</th>\n",
       "    </tr>\n",
       "  </thead>\n",
       "  <tbody>\n",
       "    <tr>\n",
       "      <th>Logistic Regression</th>\n",
       "      <td>0.745088</td>\n",
       "      <td>0.696391</td>\n",
       "      <td>0.490188</td>\n",
       "      <td>0.103239</td>\n",
       "      <td>0.500000</td>\n",
       "    </tr>\n",
       "    <tr>\n",
       "      <th>RandomForest</th>\n",
       "      <td>0.984283</td>\n",
       "      <td>0.830149</td>\n",
       "      <td>0.968882</td>\n",
       "      <td>0.085868</td>\n",
       "      <td>0.730769</td>\n",
       "    </tr>\n",
       "  </tbody>\n",
       "</table>\n",
       "</div>"
      ],
      "text/plain": [
       "                     f1_train   f1_test  mcc_train  mcc_test       fpr\n",
       "Logistic Regression  0.745088  0.696391   0.490188  0.103239  0.500000\n",
       "RandomForest         0.984283  0.830149   0.968882  0.085868  0.730769"
      ]
     },
     "metadata": {},
     "output_type": "display_data"
    }
   ],
   "source": [
    "from imblearn.over_sampling import SMOTE\n",
    "smote = SMOTE(random_state=0)\n",
    "X_train_over,y_train_over = smote.fit_resample(X_train,y_train)\n",
    "print('SMOTE 적용 전 학습용 피처/레이블 데이터 세트: ', X_train.shape, y_train.shape)\n",
    "print('SMOTE 적용 후 학습용 피처/레이블 데이터 세트: ', X_train_over.shape, y_train_over.shape)\n",
    "print('SMOTE 적용 후 레이블 값 분포: \\n', pd.Series(y_train_over).value_counts())\n",
    "a,b = mController.logisticEvaluate(X_train_over,X_test,y_train_over,y_test)\n"
   ]
  },
  {
   "cell_type": "code",
   "execution_count": 67,
   "metadata": {},
   "outputs": [
    {
     "name": "stdout",
     "output_type": "stream",
     "text": [
      "SMOTE 적용 전 학습용 피처/레이블 데이터 세트:  (1096, 22) (1096,)\n",
      "SMOTE 적용 후 학습용 피처/레이블 데이터 세트:  (2020, 22) (2020,)\n",
      "SMOTE 적용 후 레이블 값 분포: \n",
      " 1    1018\n",
      "0    1002\n",
      "Name: Pass/Fail, dtype: int64\n"
     ]
    },
    {
     "data": {
      "image/png": "[encoded data removed]",
      "text/plain": [
       "<Figure size 576x576 with 2 Axes>"
      ]
     },
     "metadata": {
      "needs_background": "light"
     },
     "output_type": "display_data"
    },
    {
     "data": {
      "image/png": "[encoded data removed]",
      "text/plain": [
       "<Figure size 576x576 with 2 Axes>"
      ]
     },
     "metadata": {
      "needs_background": "light"
     },
     "output_type": "display_data"
    },
    {
     "data": {
      "text/html": [
       "<div>\n",
       "<style scoped>\n",
       "    .dataframe tbody tr th:only-of-type {\n",
       "        vertical-align: middle;\n",
       "    }\n",
       "\n",
       "    .dataframe tbody tr th {\n",
       "        vertical-align: top;\n",
       "    }\n",
       "\n",
       "    .dataframe thead th {\n",
       "        text-align: right;\n",
       "    }\n",
       "</style>\n",
       "<table border=\"1\" class=\"dataframe\">\n",
       "  <thead>\n",
       "    <tr style=\"text-align: right;\">\n",
       "      <th></th>\n",
       "      <th>f1_train</th>\n",
       "      <th>f1_test</th>\n",
       "      <th>mcc_train</th>\n",
       "      <th>mcc_test</th>\n",
       "      <th>fpr</th>\n",
       "    </tr>\n",
       "  </thead>\n",
       "  <tbody>\n",
       "    <tr>\n",
       "      <th>Logistic Regression</th>\n",
       "      <td>0.733663</td>\n",
       "      <td>0.702760</td>\n",
       "      <td>0.467276</td>\n",
       "      <td>0.124821</td>\n",
       "      <td>0.461538</td>\n",
       "    </tr>\n",
       "    <tr>\n",
       "      <th>RandomForest</th>\n",
       "      <td>0.984158</td>\n",
       "      <td>0.828025</td>\n",
       "      <td>0.968642</td>\n",
       "      <td>0.038057</td>\n",
       "      <td>0.807692</td>\n",
       "    </tr>\n",
       "  </tbody>\n",
       "</table>\n",
       "</div>"
      ],
      "text/plain": [
       "                     f1_train   f1_test  mcc_train  mcc_test       fpr\n",
       "Logistic Regression  0.733663  0.702760   0.467276  0.124821  0.461538\n",
       "RandomForest         0.984158  0.828025   0.968642  0.038057  0.807692"
      ]
     },
     "metadata": {},
     "output_type": "display_data"
    },
    {
     "data": {
      "text/plain": [
       "(   Logistic Regression RandomForest\n",
       " 0                   59           59\n",
       " 1                  511          388\n",
       " 2                  102           40\n",
       " 3                  200          200\n",
       " 4                  482          428\n",
       " 5                  348          213\n",
       " 6                  510          460\n",
       " 7                  388          477\n",
       " 8                   79          348\n",
       " 9                  468          511\n",
       " 10                 213          102\n",
       " 11                 477           79\n",
       " 12                 227          468\n",
       " 13                 428          434\n",
       " 14                 279          587\n",
       " 15                 460          510\n",
       " 16                 587           78\n",
       " 17                  78          195\n",
       " 18                 195          425\n",
       " 19                  40          279\n",
       " 20                 425          482\n",
       " 21                 434          227,\n",
       "                      f1_train   f1_test  mcc_train  mcc_test       fpr\n",
       " Logistic Regression  0.733663  0.702760   0.467276  0.124821  0.461538\n",
       " RandomForest         0.984158  0.828025   0.968642  0.038057  0.807692)"
      ]
     },
     "execution_count": 67,
     "metadata": {},
     "output_type": "execute_result"
    }
   ],
   "source": [
    "from imblearn.over_sampling import ADASYN\n",
    "\n",
    "adasyn = ADASYN(random_state=22)\n",
    "X_train_over, y_train_over = adasyn.fit_resample(X_train, y_train)\n",
    "print('SMOTE 적용 전 학습용 피처/레이블 데이터 세트: ', X_train.shape, y_train.shape)\n",
    "print('SMOTE 적용 후 학습용 피처/레이블 데이터 세트: ', X_train_over.shape, y_train_over.shape)\n",
    "print('SMOTE 적용 후 레이블 값 분포: \\n', pd.Series(y_train_over).value_counts())\n",
    "mController.logisticEvaluate(X_train_over,X_test,y_train_over,y_test)\n"
   ]
  },
  {
   "cell_type": "code",
   "execution_count": 68,
   "metadata": {},
   "outputs": [
    {
     "name": "stdout",
     "output_type": "stream",
     "text": [
      "SMOTE 적용 전 학습용 피처/레이블 데이터 세트:  (1096, 22) (1096,)\n",
      "SMOTE 적용 후 학습용 피처/레이블 데이터 세트:  (2018, 22) (2018,)\n",
      "SMOTE 적용 후 레이블 값 분포: \n",
      " 1    1018\n",
      "0    1000\n",
      "Name: Pass/Fail, dtype: int64\n"
     ]
    },
    {
     "data": {
      "image/png": "[encoded data removed]",
      "text/plain": [
       "<Figure size 576x576 with 2 Axes>"
      ]
     },
     "metadata": {
      "needs_background": "light"
     },
     "output_type": "display_data"
    },
    {
     "data": {
      "image/png": "[encoded data removed]",
      "text/plain": [
       "<Figure size 576x576 with 2 Axes>"
      ]
     },
     "metadata": {
      "needs_background": "light"
     },
     "output_type": "display_data"
    },
    {
     "data": {
      "text/html": [
       "<div>\n",
       "<style scoped>\n",
       "    .dataframe tbody tr th:only-of-type {\n",
       "        vertical-align: middle;\n",
       "    }\n",
       "\n",
       "    .dataframe tbody tr th {\n",
       "        vertical-align: top;\n",
       "    }\n",
       "\n",
       "    .dataframe thead th {\n",
       "        text-align: right;\n",
       "    }\n",
       "</style>\n",
       "<table border=\"1\" class=\"dataframe\">\n",
       "  <thead>\n",
       "    <tr style=\"text-align: right;\">\n",
       "      <th></th>\n",
       "      <th>f1_train</th>\n",
       "      <th>f1_test</th>\n",
       "      <th>mcc_train</th>\n",
       "      <th>mcc_test</th>\n",
       "      <th>fpr</th>\n",
       "    </tr>\n",
       "  </thead>\n",
       "  <tbody>\n",
       "    <tr>\n",
       "      <th>Logistic Regression</th>\n",
       "      <td>0.755203</td>\n",
       "      <td>0.713376</td>\n",
       "      <td>0.510402</td>\n",
       "      <td>0.114061</td>\n",
       "      <td>0.500000</td>\n",
       "    </tr>\n",
       "    <tr>\n",
       "      <th>RandomForest</th>\n",
       "      <td>0.988107</td>\n",
       "      <td>0.847134</td>\n",
       "      <td>0.976338</td>\n",
       "      <td>0.054825</td>\n",
       "      <td>0.807692</td>\n",
       "    </tr>\n",
       "  </tbody>\n",
       "</table>\n",
       "</div>"
      ],
      "text/plain": [
       "                     f1_train   f1_test  mcc_train  mcc_test       fpr\n",
       "Logistic Regression  0.755203  0.713376   0.510402  0.114061  0.500000\n",
       "RandomForest         0.988107  0.847134   0.976338  0.054825  0.807692"
      ]
     },
     "metadata": {},
     "output_type": "display_data"
    },
    {
     "data": {
      "text/plain": [
       "(   Logistic Regression RandomForest\n",
       " 0                   59           59\n",
       " 1                  511           40\n",
       " 2                  482           79\n",
       " 3                  102          477\n",
       " 4                  200          425\n",
       " 5                  348          428\n",
       " 6                  510          460\n",
       " 7                  388          348\n",
       " 8                  468          587\n",
       " 9                  460          388\n",
       " 10                 227          468\n",
       " 11                 428          511\n",
       " 12                 213          434\n",
       " 13                 477          213\n",
       " 14                 587          195\n",
       " 15                 279          227\n",
       " 16                  79          279\n",
       " 17                  78          200\n",
       " 18                 195          482\n",
       " 19                  40          102\n",
       " 20                 425          510\n",
       " 21                 434           78,\n",
       "                      f1_train   f1_test  mcc_train  mcc_test       fpr\n",
       " Logistic Regression  0.755203  0.713376   0.510402  0.114061  0.500000\n",
       " RandomForest         0.988107  0.847134   0.976338  0.054825  0.807692)"
      ]
     },
     "execution_count": 68,
     "metadata": {},
     "output_type": "execute_result"
    }
   ],
   "source": [
    "from imblearn.combine import SMOTETomek\n",
    "from imblearn.under_sampling import TomekLinks\n",
    "\n",
    "smoteto = SMOTETomek(tomek=TomekLinks(sampling_strategy='majority'))\n",
    "X_train_over,y_train_over = smoteto.fit_resample(X_train,y_train)\n",
    "\n",
    "print('SMOTE 적용 전 학습용 피처/레이블 데이터 세트: ', X_train.shape, y_train.shape)\n",
    "print('SMOTE 적용 후 학습용 피처/레이블 데이터 세트: ', X_train_over.shape, y_train_over.shape)\n",
    "print('SMOTE 적용 후 레이블 값 분포: \\n', pd.Series(y_train_over).value_counts())\n",
    "mController.logisticEvaluate(X_train_over,X_test,y_train_over,y_test)"
   ]
  },
  {
   "cell_type": "code",
   "execution_count": 69,
   "metadata": {},
   "outputs": [
    {
     "name": "stdout",
     "output_type": "stream",
     "text": [
      "SMOTE 적용 전 학습용 피처/레이블 데이터 세트:  (1096, 22) (1096,)\n",
      "SMOTE 적용 후 학습용 피처/레이블 데이터 세트:  (2036, 22) (2036,)\n",
      "SMOTE 적용 후 레이블 값 분포: \n",
      " 1    1018\n",
      "0    1018\n",
      "Name: Pass/Fail, dtype: int64\n"
     ]
    },
    {
     "data": {
      "image/png": "[encoded data removed]",
      "text/plain": [
       "<Figure size 576x576 with 2 Axes>"
      ]
     },
     "metadata": {
      "needs_background": "light"
     },
     "output_type": "display_data"
    },
    {
     "data": {
      "image/png": "[encoded data removed]",
      "text/plain": [
       "<Figure size 576x576 with 2 Axes>"
      ]
     },
     "metadata": {
      "needs_background": "light"
     },
     "output_type": "display_data"
    },
    {
     "data": {
      "text/html": [
       "<div>\n",
       "<style scoped>\n",
       "    .dataframe tbody tr th:only-of-type {\n",
       "        vertical-align: middle;\n",
       "    }\n",
       "\n",
       "    .dataframe tbody tr th {\n",
       "        vertical-align: top;\n",
       "    }\n",
       "\n",
       "    .dataframe thead th {\n",
       "        text-align: right;\n",
       "    }\n",
       "</style>\n",
       "<table border=\"1\" class=\"dataframe\">\n",
       "  <thead>\n",
       "    <tr style=\"text-align: right;\">\n",
       "      <th></th>\n",
       "      <th>f1_train</th>\n",
       "      <th>f1_test</th>\n",
       "      <th>mcc_train</th>\n",
       "      <th>mcc_test</th>\n",
       "      <th>fpr</th>\n",
       "    </tr>\n",
       "  </thead>\n",
       "  <tbody>\n",
       "    <tr>\n",
       "      <th>Logistic Regression</th>\n",
       "      <td>0.760806</td>\n",
       "      <td>0.709130</td>\n",
       "      <td>0.521994</td>\n",
       "      <td>0.111304</td>\n",
       "      <td>0.500000</td>\n",
       "    </tr>\n",
       "    <tr>\n",
       "      <th>RandomForest</th>\n",
       "      <td>0.987721</td>\n",
       "      <td>0.861996</td>\n",
       "      <td>0.975522</td>\n",
       "      <td>0.143698</td>\n",
       "      <td>0.692308</td>\n",
       "    </tr>\n",
       "  </tbody>\n",
       "</table>\n",
       "</div>"
      ],
      "text/plain": [
       "                     f1_train   f1_test  mcc_train  mcc_test       fpr\n",
       "Logistic Regression  0.760806  0.709130   0.521994  0.111304  0.500000\n",
       "RandomForest         0.987721  0.861996   0.975522  0.143698  0.692308"
      ]
     },
     "metadata": {},
     "output_type": "display_data"
    },
    {
     "data": {
      "text/plain": [
       "(   Logistic Regression RandomForest\n",
       " 0                  511           79\n",
       " 1                   59          468\n",
       " 2                  482          460\n",
       " 3                  468          477\n",
       " 4                  348           59\n",
       " 5                  102          425\n",
       " 6                  510           40\n",
       " 7                  200          511\n",
       " 8                  279          213\n",
       " 9                  213          428\n",
       " 10                 428           78\n",
       " 11                 477          434\n",
       " 12                  79          102\n",
       " 13                 460          279\n",
       " 14                  78          348\n",
       " 15                 388          388\n",
       " 16                 587          200\n",
       " 17                 425          587\n",
       " 18                 227          227\n",
       " 19                 195          510\n",
       " 20                 434          195\n",
       " 21                  40          482,\n",
       "                      f1_train   f1_test  mcc_train  mcc_test       fpr\n",
       " Logistic Regression  0.760806  0.709130   0.521994  0.111304  0.500000\n",
       " RandomForest         0.987721  0.861996   0.975522  0.143698  0.692308)"
      ]
     },
     "execution_count": 69,
     "metadata": {},
     "output_type": "execute_result"
    }
   ],
   "source": [
    "from imblearn.over_sampling import BorderlineSMOTE\n",
    "X_train_over, y_train_over = BorderlineSMOTE().fit_resample(X_train, y_train)\n",
    "\n",
    "print('SMOTE 적용 전 학습용 피처/레이블 데이터 세트: ', X_train.shape, y_train.shape)\n",
    "print('SMOTE 적용 후 학습용 피처/레이블 데이터 세트: ', X_train_over.shape, y_train_over.shape)\n",
    "print('SMOTE 적용 후 레이블 값 분포: \\n', pd.Series(y_train_over).value_counts())\n",
    "mController.logisticEvaluate(X_train_over,X_test,y_train_over,y_test)"
   ]
  }
 ],
 "metadata": {
  "kernelspec": {
   "display_name": "Python 3",
   "language": "python",
   "name": "python3"
  },
  "language_info": {
   "codemirror_mode": {
    "name": "ipython",
    "version": 3
   },
   "file_extension": ".py",
   "mimetype": "text/x-python",
   "name": "python",
   "nbconvert_exporter": "python",
   "pygments_lexer": "ipython3",
   "version": "3.8.5"
  }
 },
 "nbformat": 4,
 "nbformat_minor": 4
}
