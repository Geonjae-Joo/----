{
 "cells": [
  {
   "cell_type": "code",
   "execution_count": 30,
   "metadata": {},
   "outputs": [],
   "source": [
    "from scipy.io import arff\n",
    "import pandas as pd\n",
    "import numpy as np\n",
    "from sklearn.linear_model import SGDClassifier\n",
    "from sklearn.metrics import accuracy_score, classification_report,f1_score\n",
    "from sklearn.model_selection import GridSearchCV\n",
    "import pprint\n",
    "\n",
    "import seaborn as sns"
   ]
  },
  {
   "cell_type": "code",
   "execution_count": 2,
   "metadata": {},
   "outputs": [
    {
     "data": {
      "text/html": [
       "<div>\n",
       "<style scoped>\n",
       "    .dataframe tbody tr th:only-of-type {\n",
       "        vertical-align: middle;\n",
       "    }\n",
       "\n",
       "    .dataframe tbody tr th {\n",
       "        vertical-align: top;\n",
       "    }\n",
       "\n",
       "    .dataframe thead th {\n",
       "        text-align: right;\n",
       "    }\n",
       "</style>\n",
       "<table border=\"1\" class=\"dataframe\">\n",
       "  <thead>\n",
       "    <tr style=\"text-align: right;\">\n",
       "      <th></th>\n",
       "      <th>X1</th>\n",
       "      <th>X2</th>\n",
       "      <th>class</th>\n",
       "    </tr>\n",
       "  </thead>\n",
       "  <tbody>\n",
       "    <tr>\n",
       "      <th>0</th>\n",
       "      <td>0.362671</td>\n",
       "      <td>0.667272</td>\n",
       "      <td>1.0</td>\n",
       "    </tr>\n",
       "    <tr>\n",
       "      <th>1</th>\n",
       "      <td>0.366724</td>\n",
       "      <td>0.831947</td>\n",
       "      <td>1.0</td>\n",
       "    </tr>\n",
       "    <tr>\n",
       "      <th>2</th>\n",
       "      <td>0.167760</td>\n",
       "      <td>0.234370</td>\n",
       "      <td>1.0</td>\n",
       "    </tr>\n",
       "    <tr>\n",
       "      <th>3</th>\n",
       "      <td>0.054344</td>\n",
       "      <td>0.891496</td>\n",
       "      <td>1.0</td>\n",
       "    </tr>\n",
       "    <tr>\n",
       "      <th>4</th>\n",
       "      <td>0.639298</td>\n",
       "      <td>0.010638</td>\n",
       "      <td>0.0</td>\n",
       "    </tr>\n",
       "    <tr>\n",
       "      <th>...</th>\n",
       "      <td>...</td>\n",
       "      <td>...</td>\n",
       "      <td>...</td>\n",
       "    </tr>\n",
       "    <tr>\n",
       "      <th>39995</th>\n",
       "      <td>0.579554</td>\n",
       "      <td>0.589774</td>\n",
       "      <td>0.0</td>\n",
       "    </tr>\n",
       "    <tr>\n",
       "      <th>39996</th>\n",
       "      <td>0.897558</td>\n",
       "      <td>0.961799</td>\n",
       "      <td>1.0</td>\n",
       "    </tr>\n",
       "    <tr>\n",
       "      <th>39997</th>\n",
       "      <td>0.570111</td>\n",
       "      <td>0.169098</td>\n",
       "      <td>0.0</td>\n",
       "    </tr>\n",
       "    <tr>\n",
       "      <th>39998</th>\n",
       "      <td>0.609117</td>\n",
       "      <td>0.765140</td>\n",
       "      <td>1.0</td>\n",
       "    </tr>\n",
       "    <tr>\n",
       "      <th>39999</th>\n",
       "      <td>0.407473</td>\n",
       "      <td>0.329075</td>\n",
       "      <td>0.0</td>\n",
       "    </tr>\n",
       "  </tbody>\n",
       "</table>\n",
       "<p>40000 rows × 3 columns</p>\n",
       "</div>"
      ],
      "text/plain": [
       "             X1        X2  class\n",
       "0      0.362671  0.667272    1.0\n",
       "1      0.366724  0.831947    1.0\n",
       "2      0.167760  0.234370    1.0\n",
       "3      0.054344  0.891496    1.0\n",
       "4      0.639298  0.010638    0.0\n",
       "...         ...       ...    ...\n",
       "39995  0.579554  0.589774    0.0\n",
       "39996  0.897558  0.961799    1.0\n",
       "39997  0.570111  0.169098    0.0\n",
       "39998  0.609117  0.765140    1.0\n",
       "39999  0.407473  0.329075    0.0\n",
       "\n",
       "[40000 rows x 3 columns]"
      ]
     },
     "execution_count": 2,
     "metadata": {},
     "output_type": "execute_result"
    }
   ],
   "source": [
    "df = pd.read_csv('rt_2563789698568873_abrupto.csv')\n",
    "df"
   ]
  },
  {
   "cell_type": "code",
   "execution_count": 3,
   "metadata": {},
   "outputs": [],
   "source": [
    "def summary(df, pred=None):\n",
    "    obs = df.shape[0]\n",
    "    Types = df.dtypes\n",
    "    Counts = df.apply(lambda x: x.count())\n",
    "    Min = df.min()\n",
    "    Max = df.max()\n",
    "    Uniques = df.apply(lambda x: x.unique().shape[0])\n",
    "    Nulls = df.apply(lambda x: x.isnull().sum())\n",
    "    print('Data shape:', df.shape)\n",
    "\n",
    "    if pred is None:\n",
    "        cols = ['Types', 'Counts', 'Uniques', 'Nulls', 'Min', 'Max']\n",
    "        st = pd.concat([Types, Counts, Uniques, Nulls, Min, Max], axis = 1, sort=True)\n",
    "\n",
    "    st.columns = cols\n",
    "    print('___________________________\\nData Types:')\n",
    "    print(st.Types.value_counts())\n",
    "    print('___________________________')\n",
    "    return st"
   ]
  },
  {
   "cell_type": "code",
   "execution_count": 22,
   "metadata": {},
   "outputs": [],
   "source": [
    "\n",
    "X_on_pre = df.iloc[:10001,:2]\n",
    "y_on_pre = df.iloc[:10001,-1]\n",
    "\n",
    "X_hold_pre = df.iloc[30001:37001,:2]\n",
    "y_hold_pre = df.iloc[30001:37001,-1]\n",
    "X_hold_pre_test = df.iloc[37001:,:2]\n",
    "y_hold_pre_test = df.iloc[37001:,-1]\n",
    "\n",
    "\n",
    "X_on = df.iloc[:,:2]\n",
    "y_on = df.iloc[:,-1]\n",
    "\n",
    "X_hold = df.iloc[:37001,:2]\n",
    "y_hold = df.iloc[:37001,-1]\n",
    "X_hold_test = df.iloc[37001:,:2]\n",
    "y_hold_test = df.iloc[37001:,-1]"
   ]
  },
  {
   "cell_type": "code",
   "execution_count": 31,
   "metadata": {},
   "outputs": [
    {
     "name": "stdout",
     "output_type": "stream",
     "text": [
      "train score:  0.6925714285714286\n",
      "test score:  0.6992330776925642\n",
      "              precision    recall  f1-score   support\n",
      "\n",
      "         0.0       0.65      0.88      0.75      1548\n",
      "         1.0       0.80      0.50      0.62      1451\n",
      "\n",
      "    accuracy                           0.70      2999\n",
      "   macro avg       0.73      0.69      0.69      2999\n",
      "weighted avg       0.73      0.70      0.69      2999\n",
      "\n",
      "0.6181202370872143\n"
     ]
    }
   ],
   "source": [
    "# Concept Drift 이전의 데이터 hold out\n",
    "\n",
    "sc = SGDClassifier(loss='log')\n",
    "sc.fit(X_hold_pre,y_hold_pre)\n",
    "print('train score: ',sc.score(X_hold_pre,y_hold_pre))\n",
    "print('test score: ',sc.score(X_hold_pre_test,y_hold_pre_test))\n",
    "print(classification_report(y_hold_pre_test,sc.predict(X_hold_pre_test)))\n",
    "print(f1_score(y_hold_pre_test,sc.predict(X_hold_pre_test)))"
   ]
  },
  {
   "cell_type": "code",
   "execution_count": 33,
   "metadata": {},
   "outputs": [
    {
     "name": "stdout",
     "output_type": "stream",
     "text": [
      "best parameters :  {'alpha': 0.1}\n",
      "best score :  0.6922857142857144\n",
      "test score :  0.6938979659886629\n",
      "              precision    recall  f1-score   support\n",
      "\n",
      "         0.0       0.67      0.81      0.73      1548\n",
      "         1.0       0.74      0.57      0.64      1451\n",
      "\n",
      "    accuracy                           0.69      2999\n",
      "   macro avg       0.70      0.69      0.69      2999\n",
      "weighted avg       0.70      0.69      0.69      2999\n",
      "\n",
      "0.6425233644859814\n"
     ]
    }
   ],
   "source": [
    "# hyper parameter tuning with grid search\n",
    "params = {\"alpha\":[0.005,0.01,0.05,0.1]}\n",
    "sc_t = SGDClassifier(loss='log',n_jobs=-1)\n",
    "\n",
    "grid_sc = GridSearchCV(sc_t,param_grid=params,cv = 5)\n",
    "grid_sc.fit(X_hold_pre,y_hold_pre)\n",
    "print('best parameters : ', grid_sc.best_params_)\n",
    "print('best score : ', grid_sc.best_score_)\n",
    "print('test score : ', grid_sc.best_estimator_.score(X_hold_pre_test,y_hold_pre_test))\n",
    "print(classification_report(y_hold_pre_test,grid_sc.best_estimator_.predict(X_hold_pre_test)))\n",
    "print(f1_score(y_hold_pre_test,grid_sc.best_estimator_.predict(X_hold_pre_test)))\n"
   ]
  },
  {
   "cell_type": "code",
   "execution_count": 34,
   "metadata": {},
   "outputs": [
    {
     "name": "stdout",
     "output_type": "stream",
     "text": [
      "train score:  0.6535228777600606\n",
      "test score:  0.5985328442814272\n",
      "              precision    recall  f1-score   support\n",
      "\n",
      "         0.0       0.59      0.71      0.65      1548\n",
      "         1.0       0.61      0.48      0.54      1451\n",
      "\n",
      "    accuracy                           0.60      2999\n",
      "   macro avg       0.60      0.59      0.59      2999\n",
      "weighted avg       0.60      0.60      0.59      2999\n",
      "\n",
      "0.5376344086021505\n"
     ]
    }
   ],
   "source": [
    "# Concept Drift 포함 모든 데이터 hold out \n",
    "\n",
    "sc = SGDClassifier(loss='log')\n",
    "sc.fit(X_hold,y_hold)\n",
    "print('train score: ',sc.score(X_hold,y_hold))\n",
    "print('test score: ',sc.score(X_hold_test,y_hold_test))\n",
    "print(classification_report(y_hold_test,sc.predict(X_hold_test)))\n",
    "print(f1_score(y_hold_test,sc.predict(X_hold_test)))\n",
    "\n"
   ]
  },
  {
   "cell_type": "code",
   "execution_count": 20,
   "metadata": {},
   "outputs": [
    {
     "name": "stdout",
     "output_type": "stream",
     "text": [
      "best parameters :  {'alpha': 0.01}\n",
      "best score :  0.642843512746634\n",
      "test score :  0.6055351783927976\n",
      "              precision    recall  f1-score   support\n",
      "\n",
      "         0.0       0.61      0.66      0.63      1548\n",
      "         1.0       0.60      0.55      0.58      1451\n",
      "\n",
      "    accuracy                           0.61      2999\n",
      "   macro avg       0.61      0.60      0.60      2999\n",
      "weighted avg       0.61      0.61      0.60      2999\n",
      "\n"
     ]
    }
   ],
   "source": [
    "# hyper parameter tuning with grid search\n",
    "params = {\"alpha\":[0.005,0.01,0.05,0.1]}\n",
    "sc_t = SGDClassifier(loss='log',n_jobs=-1)\n",
    "\n",
    "grid_sc = GridSearchCV(sc_t,param_grid=params,cv = 5)\n",
    "grid_sc.fit(X_hold,y_hold)\n",
    "print('best parameters : ', grid_sc.best_params_)\n",
    "print('best score : ', grid_sc.best_score_)\n",
    "print('test score : ', grid_sc.best_estimator_.score(X_hold_test,y_hold_test))\n",
    "print(classification_report(y_hold_test,grid_sc.best_estimator_.predict(X_hold_test)))\n"
   ]
  },
  {
   "cell_type": "code",
   "execution_count": 28,
   "metadata": {},
   "outputs": [
    {
     "name": "stdout",
     "output_type": "stream",
     "text": [
      "score:  0.6881\n",
      "              precision    recall  f1-score   support\n",
      "\n",
      "         0.0       0.69      0.69      0.69      5039\n",
      "         1.0       0.68      0.69      0.69      4961\n",
      "\n",
      "    accuracy                           0.69     10000\n",
      "   macro avg       0.69      0.69      0.69     10000\n",
      "weighted avg       0.69      0.69      0.69     10000\n",
      "\n"
     ]
    }
   ],
   "source": [
    "# Concept Drift 포함 모든 데이터 online learning\n",
    "sc_on = SGDClassifier(loss='log')\n",
    "y_tmp =y_on_pre.to_numpy().reshape(-1,1)\n",
    "y_hat = []\n",
    "c = np.unique(y_on_pre)\n",
    "for i in range(len(X_on_pre)-1):\n",
    "    sc_on.partial_fit(X_on_pre.iloc[i,:].to_numpy().reshape(1,-1),y_tmp[i],classes=c)\n",
    "    x_1 = X_on_pre.iloc[i+1,:].to_numpy().reshape(1,-1)\n",
    "    y_hat.append(sc_on.predict(x_1)[0])\n",
    "print('score: ',accuracy_score(y_on_pre[1:],y_hat))\n",
    "print(classification_report(y_on_pre[1:],y_hat))\n"
   ]
  },
  {
   "cell_type": "code",
   "execution_count": 29,
   "metadata": {},
   "outputs": [
    {
     "name": "stdout",
     "output_type": "stream",
     "text": [
      "score:  0.6992674816870422\n",
      "              precision    recall  f1-score   support\n",
      "\n",
      "         0.0       0.70      0.74      0.72     20577\n",
      "         1.0       0.70      0.66      0.68     19422\n",
      "\n",
      "    accuracy                           0.70     39999\n",
      "   macro avg       0.70      0.70      0.70     39999\n",
      "weighted avg       0.70      0.70      0.70     39999\n",
      "\n"
     ]
    }
   ],
   "source": [
    "# Concept Drift 포함 모든 데이터 online learning\n",
    "sc_on = SGDClassifier(loss='log')\n",
    "y_tmp =y_on.to_numpy().reshape(-1,1)\n",
    "y_hat = []\n",
    "c = np.unique(y_on)\n",
    "for i in range(len(X_on)-1):\n",
    "    sc_on.partial_fit(X_on.iloc[i,:].to_numpy().reshape(1,-1),y_tmp[i],classes=c)\n",
    "    x_1 = X_on.iloc[i+1,:].to_numpy().reshape(1,-1)\n",
    "    y_hat.append(sc_on.predict(x_1)[0])\n",
    "print('score: ',accuracy_score(y_on[1:],y_hat))\n",
    "print(classification_report(y_on[1:],y_hat))\n"
   ]
  },
  {
   "cell_type": "code",
   "execution_count": null,
   "metadata": {},
   "outputs": [],
   "source": [
    "sc_on.pre"
   ]
  },
  {
   "cell_type": "code",
   "execution_count": null,
   "metadata": {},
   "outputs": [],
   "source": [
    "# Concept Drift 이전의 데이터 online learning\n",
    "\n",
    "sc_on = SGDClassifier(loss='log')\n",
    "y_tmp =y.to_numpy().reshape(-1,1)\n",
    "c = np.unique(y)\n",
    "for i in range(len(X)):\n",
    "\n",
    "    sc_on.partial_fit(X.iloc[i,:].to_numpy().reshape(1,-1),y_tmp[i],classes=c)\n",
    "\n",
    "\n",
    "sc_on.score(X_pre,y_pre)"
   ]
  },
  {
   "cell_type": "code",
   "execution_count": null,
   "metadata": {},
   "outputs": [],
   "source": []
  },
  {
   "cell_type": "code",
   "execution_count": null,
   "metadata": {},
   "outputs": [],
   "source": []
  },
  {
   "cell_type": "code",
   "execution_count": 24,
   "metadata": {},
   "outputs": [
    {
     "data": {
      "text/plain": [
       "X1       0.50031\n",
       "X2       0.49936\n",
       "class    0.48910\n",
       "dtype: float64"
      ]
     },
     "execution_count": 24,
     "metadata": {},
     "output_type": "execute_result"
    }
   ],
   "source": [
    "df.iloc[:10000,:].mean()"
   ]
  },
  {
   "cell_type": "code",
   "execution_count": 26,
   "metadata": {},
   "outputs": [
    {
     "data": {
      "text/plain": [
       "<AxesSubplot:>"
      ]
     },
     "execution_count": 26,
     "metadata": {},
     "output_type": "execute_result"
    },
    {
     "data": {
      "image/png": "[encoded data removed]",
      "text/plain": [
       "<Figure size 432x288 with 1 Axes>"
      ]
     },
     "metadata": {
      "needs_background": "light"
     },
     "output_type": "display_data"
    }
   ],
   "source": [
    "df.iloc[10000:20000,0].hist()\n"
   ]
  },
  {
   "cell_type": "code",
   "execution_count": 20,
   "metadata": {},
   "outputs": [],
   "source": [
    "df = pd.read_csv('rt_2563789698568873_gradual.csv')\n"
   ]
  },
  {
   "cell_type": "code",
   "execution_count": 22,
   "metadata": {},
   "outputs": [
    {
     "data": {
      "text/plain": [
       "<AxesSubplot:>"
      ]
     },
     "execution_count": 22,
     "metadata": {},
     "output_type": "execute_result"
    },
    {
     "data": {
      "image/png": "[encoded data removed]",
      "text/plain": [
       "<Figure size 432x288 with 1 Axes>"
      ]
     },
     "metadata": {
      "needs_background": "light"
     },
     "output_type": "display_data"
    }
   ],
   "source": [
    "df.iloc[:,0].hist()"
   ]
  }
 ],
 "metadata": {
  "interpreter": {
   "hash": "7ac37eca00f56fe104e30d1dc118746a27dcd06b1b69a21cc99e04a304ccd741"
  },
  "kernelspec": {
   "display_name": "Python 3.8.5 ('base')",
   "language": "python",
   "name": "python3"
  },
  "language_info": {
   "codemirror_mode": {
    "name": "ipython",
    "version": 3
   },
   "file_extension": ".py",
   "mimetype": "text/x-python",
   "name": "python",
   "nbconvert_exporter": "python",
   "pygments_lexer": "ipython3",
   "version": "3.8.5"
  },
  "orig_nbformat": 4
 },
 "nbformat": 4,
 "nbformat_minor": 2
}
