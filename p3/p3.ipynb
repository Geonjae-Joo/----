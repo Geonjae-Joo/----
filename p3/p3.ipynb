{
 "cells": [
  {
   "cell_type": "code",
   "execution_count": 1,
   "metadata": {},
   "outputs": [],
   "source": [
    "# base tool\n",
    "import pandas as pd\n",
    "pd.set_option('display.max_columns', 50)\n",
    "pd.set_option('display.max_rows',100)\n",
    "import numpy as np\n",
    "from sklearn.model_selection import train_test_split\n",
    "import copy\n",
    "\n",
    "import warnings\n",
    "warnings.filterwarnings('ignore')\n",
    "\n",
    "#visualization\n",
    "from IPython.display import display\n",
    "import matplotlib.pyplot as plt\n",
    "from matplotlib import font_manager, rc\n",
    "font_path = \"C:/Windows/Fonts/gulim.ttc\"\n",
    "font = font_manager.FontProperties(fname=font_path).get_name()\n",
    "rc('font', family=font)\n",
    "import seaborn as sns    \n",
    "\n",
    "import plotly.io as pio\n",
    "import plotly.express as px\n",
    "import plotly.graph_objects as go\n",
    "import plotly.figure_factory as ff\n",
    "from plotly.subplots import make_subplots\n",
    "pio.templates.default = \"plotly_white\"\n"
   ]
  },
  {
   "cell_type": "code",
   "execution_count": 2,
   "metadata": {},
   "outputs": [],
   "source": [
    "def summary(df, pred=None):\n",
    "    obs = df.shape[0]\n",
    "    Types = df.dtypes\n",
    "    Counts = df.apply(lambda x: x.count())\n",
    "    Min = df.min()\n",
    "    Max = df.max()\n",
    "    Uniques = df.apply(lambda x: x.unique().shape[0])\n",
    "    Nulls = df.apply(lambda x: x.isnull().sum())\n",
    "    print('Data shape:', df.shape)\n",
    "\n",
    "    if pred is None:\n",
    "        cols = ['Types', 'Counts', 'Uniques', 'Nulls', 'Min', 'Max']\n",
    "        st = pd.concat([Types, Counts, Uniques, Nulls, Min, Max], axis = 1, sort=True)\n",
    "\n",
    "    st.columns = cols\n",
    "    print('___________________________\\nData Types:')\n",
    "    print(st.Types.value_counts())\n",
    "    print('___________________________')\n",
    "    return st"
   ]
  },
  {
   "cell_type": "code",
   "execution_count": 3,
   "metadata": {},
   "outputs": [],
   "source": [
    "raw_data = pd.read_csv('./Tetuan City power consumption.csv')\n",
    "raw_data= pd.DataFrame(raw_data)"
   ]
  },
  {
   "cell_type": "code",
   "execution_count": 4,
   "metadata": {},
   "outputs": [
    {
     "name": "stdout",
     "output_type": "stream",
     "text": [
      "Data shape: (52416, 9)\n",
      "___________________________\n",
      "Data Types:\n",
      "float64    8\n",
      "object     1\n",
      "Name: Types, dtype: int64\n",
      "___________________________\n"
     ]
    },
    {
     "data": {
      "text/html": [
       "<div>\n",
       "<style scoped>\n",
       "    .dataframe tbody tr th:only-of-type {\n",
       "        vertical-align: middle;\n",
       "    }\n",
       "\n",
       "    .dataframe tbody tr th {\n",
       "        vertical-align: top;\n",
       "    }\n",
       "\n",
       "    .dataframe thead th {\n",
       "        text-align: right;\n",
       "    }\n",
       "</style>\n",
       "<table border=\"1\" class=\"dataframe\">\n",
       "  <thead>\n",
       "    <tr style=\"text-align: right;\">\n",
       "      <th></th>\n",
       "      <th>Types</th>\n",
       "      <th>Counts</th>\n",
       "      <th>Uniques</th>\n",
       "      <th>Nulls</th>\n",
       "      <th>Min</th>\n",
       "      <th>Max</th>\n",
       "    </tr>\n",
       "  </thead>\n",
       "  <tbody>\n",
       "    <tr>\n",
       "      <th>DateTime</th>\n",
       "      <td>object</td>\n",
       "      <td>52416</td>\n",
       "      <td>52416</td>\n",
       "      <td>0</td>\n",
       "      <td>1/1/2017 0:00</td>\n",
       "      <td>9/9/2017 9:50</td>\n",
       "    </tr>\n",
       "    <tr>\n",
       "      <th>Humidity</th>\n",
       "      <td>float64</td>\n",
       "      <td>52416</td>\n",
       "      <td>4443</td>\n",
       "      <td>0</td>\n",
       "      <td>11.34</td>\n",
       "      <td>94.8</td>\n",
       "    </tr>\n",
       "    <tr>\n",
       "      <th>Temperature</th>\n",
       "      <td>float64</td>\n",
       "      <td>52416</td>\n",
       "      <td>3437</td>\n",
       "      <td>0</td>\n",
       "      <td>3.247</td>\n",
       "      <td>40.01</td>\n",
       "    </tr>\n",
       "    <tr>\n",
       "      <th>Wind Speed</th>\n",
       "      <td>float64</td>\n",
       "      <td>52416</td>\n",
       "      <td>548</td>\n",
       "      <td>0</td>\n",
       "      <td>0.05</td>\n",
       "      <td>6.483</td>\n",
       "    </tr>\n",
       "    <tr>\n",
       "      <th>Zone 1 Power Consumption</th>\n",
       "      <td>float64</td>\n",
       "      <td>52416</td>\n",
       "      <td>27709</td>\n",
       "      <td>0</td>\n",
       "      <td>13895.7</td>\n",
       "      <td>52204.4</td>\n",
       "    </tr>\n",
       "    <tr>\n",
       "      <th>Zone 2  Power Consumption</th>\n",
       "      <td>float64</td>\n",
       "      <td>52416</td>\n",
       "      <td>29621</td>\n",
       "      <td>0</td>\n",
       "      <td>8560.08</td>\n",
       "      <td>37408.9</td>\n",
       "    </tr>\n",
       "    <tr>\n",
       "      <th>Zone 3  Power Consumption</th>\n",
       "      <td>float64</td>\n",
       "      <td>52416</td>\n",
       "      <td>22838</td>\n",
       "      <td>0</td>\n",
       "      <td>5935.17</td>\n",
       "      <td>47598.3</td>\n",
       "    </tr>\n",
       "    <tr>\n",
       "      <th>diffuse flows</th>\n",
       "      <td>float64</td>\n",
       "      <td>52416</td>\n",
       "      <td>10449</td>\n",
       "      <td>0</td>\n",
       "      <td>0.011</td>\n",
       "      <td>936</td>\n",
       "    </tr>\n",
       "    <tr>\n",
       "      <th>general diffuse flows</th>\n",
       "      <td>float64</td>\n",
       "      <td>52416</td>\n",
       "      <td>10504</td>\n",
       "      <td>0</td>\n",
       "      <td>0.004</td>\n",
       "      <td>1163</td>\n",
       "    </tr>\n",
       "  </tbody>\n",
       "</table>\n",
       "</div>"
      ],
      "text/plain": [
       "                             Types  Counts  Uniques  Nulls            Min  \\\n",
       "DateTime                    object   52416    52416      0  1/1/2017 0:00   \n",
       "Humidity                   float64   52416     4443      0          11.34   \n",
       "Temperature                float64   52416     3437      0          3.247   \n",
       "Wind Speed                 float64   52416      548      0           0.05   \n",
       "Zone 1 Power Consumption   float64   52416    27709      0        13895.7   \n",
       "Zone 2  Power Consumption  float64   52416    29621      0        8560.08   \n",
       "Zone 3  Power Consumption  float64   52416    22838      0        5935.17   \n",
       "diffuse flows              float64   52416    10449      0          0.011   \n",
       "general diffuse flows      float64   52416    10504      0          0.004   \n",
       "\n",
       "                                     Max  \n",
       "DateTime                   9/9/2017 9:50  \n",
       "Humidity                            94.8  \n",
       "Temperature                        40.01  \n",
       "Wind Speed                         6.483  \n",
       "Zone 1 Power Consumption         52204.4  \n",
       "Zone 2  Power Consumption        37408.9  \n",
       "Zone 3  Power Consumption        47598.3  \n",
       "diffuse flows                        936  \n",
       "general diffuse flows               1163  "
      ]
     },
     "execution_count": 4,
     "metadata": {},
     "output_type": "execute_result"
    }
   ],
   "source": [
    "summary(raw_data)"
   ]
  },
  {
   "cell_type": "code",
   "execution_count": 12,
   "metadata": {},
   "outputs": [],
   "source": [
    "heat_temp = raw_data.iloc[:,-3:]\n",
    "r_column = list(heat_temp.columns)\n",
    "heat_temp.rename(columns={r_column[0]:'Zone1',r_column[1]:'Zone2',r_column[2]:'Zone3'},inplace=True)"
   ]
  },
  {
   "cell_type": "code",
   "execution_count": 13,
   "metadata": {},
   "outputs": [
    {
     "data": {
      "text/plain": [
       "<AxesSubplot:>"
      ]
     },
     "execution_count": 13,
     "metadata": {},
     "output_type": "execute_result"
    },
    {
     "data": {
      "image/png": "[encoded data removed]",
      "text/plain": [
       "<Figure size 360x360 with 2 Axes>"
      ]
     },
     "metadata": {
      "needs_background": "light"
     },
     "output_type": "display_data"
    }
   ],
   "source": [
    "plt.figure(figsize=(5,5))\n",
    "sns.heatmap(data = heat_temp.corr(), annot=True, \n",
    "fmt = '.2f', linewidths=.5, cmap='Blues')"
   ]
  },
  {
   "cell_type": "code",
   "execution_count": 19,
   "metadata": {},
   "outputs": [
    {
     "data": {
      "text/plain": [
       "(0.5709322667566566, 0.0)"
      ]
     },
     "execution_count": 19,
     "metadata": {},
     "output_type": "execute_result"
    }
   ],
   "source": [
    "import scipy.stats as stats\n",
    "\n",
    "# 피어슨 상관계수 검정\n",
    "corr = stats.pearsonr(raw_data.iloc[:,-2],raw_data.iloc[:,-1])\n",
    "corr"
   ]
  },
  {
   "cell_type": "code",
   "execution_count": 20,
   "metadata": {},
   "outputs": [
    {
     "data": {
      "text/plain": [
       "(0.8345189396462863, 0.0)"
      ]
     },
     "execution_count": 20,
     "metadata": {},
     "output_type": "execute_result"
    }
   ],
   "source": [
    "corr = stats.pearsonr(raw_data.iloc[:,-3],raw_data.iloc[:,-2])\n",
    "corr"
   ]
  }
 ],
 "metadata": {
  "interpreter": {
   "hash": "7ac37eca00f56fe104e30d1dc118746a27dcd06b1b69a21cc99e04a304ccd741"
  },
  "kernelspec": {
   "display_name": "Python 3.8.5 ('base')",
   "language": "python",
   "name": "python3"
  },
  "language_info": {
   "codemirror_mode": {
    "name": "ipython",
    "version": 3
   },
   "file_extension": ".py",
   "mimetype": "text/x-python",
   "name": "python",
   "nbconvert_exporter": "python",
   "pygments_lexer": "ipython3",
   "version": "3.8.5"
  },
  "orig_nbformat": 4
 },
 "nbformat": 4,
 "nbformat_minor": 2
}
